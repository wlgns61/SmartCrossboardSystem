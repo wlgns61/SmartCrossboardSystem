{
 "cells": [
  {
   "cell_type": "code",
   "execution_count": 3,
   "metadata": {},
   "outputs": [],
   "source": [
    "import json\n",
    "import os\n",
    "import re\n",
    "import copy\n",
    "from tqdm import tqdm"
   ]
  },
  {
   "cell_type": "code",
   "execution_count": 4,
   "metadata": {},
   "outputs": [],
   "source": [
    "\n",
    "# json_data['images']\n",
    "# json_data['images']['file_name']\n",
    "# json_data['images']['coco_url']\n",
    "# json_data['images']['height']\n",
    "# json_data['images']['width']\n",
    "# json_data['images']['flickr_url']\n",
    "# json_data['images']['id']\n",
    "# -----------------------\n",
    "# @@@@@@@@@@@@@@@@@@@@@@@\n",
    "# -----------------------\n",
    "# json_data['annotations']\n",
    "# json_data['annotations']['bbox']\n",
    "# json_data['annotations']['image_id']\n",
    "\n",
    "\n",
    "# {path}/yolov3-master/coco/images/{file_name}/.jpg   --->   {path}/yolov3-master/data/coco1cls.txt\n",
    "# {path}/yolov3-master/coco/labels/{file_name}/.txt   --->   0 0.xx 0.xx 0.xx 0.xx      (class, x_center, y_center, width, height)\n",
    "#                                                            0 0.xx 0.xx 0.xx 0.xx ...\n"
   ]
  },
  {
   "cell_type": "code",
   "execution_count": 23,
   "metadata": {},
   "outputs": [],
   "source": [
    "class Error(Exception):\n",
    "    pass"
   ]
  },
  {
   "cell_type": "code",
   "execution_count": 56,
   "metadata": {},
   "outputs": [],
   "source": [
    "class Download:\n",
    "    def __init__(self, file_paths):\n",
    "        self.file_paths = file_paths\n",
    "        self.current_path = os.getcwd()\n",
    "        self.file_names, self.route = self.get_file_name()\n",
    "        self.cls_path = 'coco1cls.txt'\n",
    "        \n",
    "    def read_json(self,file_path):\n",
    "        with open(file_path, 'r') as json_file:\n",
    "            json_data = json.load(json_file)\n",
    "        \n",
    "        return json_data\n",
    "    \n",
    "    def get_file_name(self):\n",
    "        tmp = []\n",
    "        route = []\n",
    "        for i,x in enumerate(self.file_paths):\n",
    "            \n",
    "            name_i = ''\n",
    "            image_path = copy.deepcopy(self.current_path)\n",
    "            image_path = image_path.replace('yolov3-master','')\n",
    "            image_path += 'cocodataset/images/'\n",
    "\n",
    "            full_name = os.path.basename(x)\n",
    "            name = re.findall('(.*)\\.', full_name)\n",
    "            \n",
    "            if '2017' in name[0]:\n",
    "                if 'train' in name[0]:\n",
    "                    name_i = 'train2017'\n",
    "                elif 'val' in name[0]:\n",
    "                    name_i = 'val2017'\n",
    "                    \n",
    "            elif '2014' in name[0]:\n",
    "                if 'train' in name[0]:\n",
    "                    name_i = 'train2014'\n",
    "                elif 'val' in name[0]:\n",
    "                    name_i = 'val2014'\n",
    "            \n",
    "            image_path = image_path + name_i + '_person/'\n",
    "                    \n",
    "            route.append(image_path) \n",
    "            tmp += name\n",
    "            \n",
    "        return tmp, route\n",
    "    \n",
    "    def get_bbox(self, image, anno):\n",
    "        \n",
    "        # find center\n",
    "        # normalize\n",
    "        bbox = []\n",
    "        x_center = anno['bbox'][0] + anno['bbox'][2]/2\n",
    "        y_center = anno['bbox'][1] + anno['bbox'][3]/2\n",
    "        \n",
    "        height, width = image['height'], image['width']\n",
    "        \n",
    "        bbox.append(round(x_center/width,6))\n",
    "        bbox.append(round(y_center/height,6))\n",
    "        bbox.append(round(anno['bbox'][2]/width,6))\n",
    "        bbox.append(round(anno['bbox'][3]/height,6))\n",
    "        \n",
    "        return bbox # normalized list: [x,y,w,h]\n",
    "        \n",
    "    def __call__(self):\n",
    "        # 레이블을 저장하고\n",
    "        # coco1cls.txt에 경로를 저장해야함\n",
    "        for i,x in enumerate(self.file_paths):\n",
    "            json_data = self.read_json(x)\n",
    "            \n",
    "            if 'val' in self.file_names[i]:\n",
    "                self.cls_path = 'coco1cls_val.txt'\n",
    "                \n",
    "            memory = {}\n",
    "            for j,d in enumerate(tqdm(json_data['images'])):\n",
    "                route = self.route[i] + d['file_name']\n",
    "                \n",
    "                label_route = copy.deepcopy(route)\n",
    "                label_route = label_route.replace('images','labels')\n",
    "                label_route = label_route[:-3]+'txt'\n",
    "                \n",
    "                try:\n",
    "                    if os.path.exists(route) == False:\n",
    "                        raise Error()\n",
    "                except:\n",
    "                    continue\n",
    "                    \n",
    "                # write coco1cls.txt, coco1cls_val.txt\n",
    "                f = open(self.current_path+'/data/{}'.format(self.cls_path),'a')\n",
    "                f.write(route+'\\n')\n",
    "                f.close()\n",
    "                        \n",
    "                # save label\n",
    "                for k,a in enumerate(json_data['annotations']):\n",
    "                    try:\n",
    "                        if memory[k] == 1:\n",
    "                            continue\n",
    "                    except:\n",
    "                        if a['image_id'] == d['id']:\n",
    "                            f = open(label_route, 'a')\n",
    "                            bbox = self.get_bbox(d,a)\n",
    "                            line = '0 {0} {1} {2} {3}\\n'.format(bbox[0],bbox[1],bbox[2],bbox[3])\n",
    "                            f.write(line)\n",
    "                            f.close()\n",
    "                        \n",
    "                            memory[k] = 1"
   ]
  },
  {
   "cell_type": "code",
   "execution_count": 57,
   "metadata": {
    "scrolled": false
   },
   "outputs": [
    {
     "name": "stderr",
     "output_type": "stream",
     "text": [
      "100%|██████████| 45174/45174 [39:55<00:00, 18.86it/s]\n",
      "100%|██████████| 64115/64115 [1:09:22<00:00, 15.40it/s]\n",
      "100%|██████████| 21634/21634 [07:02<00:00, 51.17it/s] \n",
      "100%|██████████| 2693/2693 [00:05<00:00, 455.03it/s]\n"
     ]
    }
   ],
   "source": [
    "ann_path = '../cocodataset/annotations/'\n",
    "train_file_list = ['../cocodataset/annotations/instances_train2014_person.json', \n",
    "                   '../cocodataset/annotations/instances_train2017_person.json',\n",
    "                   '../cocodataset/annotations/instances_val2014_person.json', \n",
    "                   '../cocodataset/annotations/instances_val2017_person.json']\n",
    "\n",
    "train_2017_list = ['../cocodataset/annotations/instances_train2017_person.json',\n",
    "                   '../cocodataset/annotations/instances_val2017_person.json']\n",
    "downloader = Download(train_file_list)\n",
    "downloader()\n",
    "# python3 train.py --data data/coco_1cls.data"
   ]
  },
  {
   "cell_type": "code",
   "execution_count": 51,
   "metadata": {},
   "outputs": [],
   "source": [
    "# 2014 개수 확인해보기\n",
    "# 2017 저장 안된 이유 확인하기\n",
    "\n",
    "f=open('./data/coco1cls.txt')"
   ]
  },
  {
   "cell_type": "code",
   "execution_count": null,
   "metadata": {},
   "outputs": [],
   "source": [
    "# !python3 train.py --cfg yolov3-spp-1cls.cfg --data data/coco_1cls.data"
   ]
  }
 ],
 "metadata": {
  "kernelspec": {
   "display_name": "Python [conda env:yolo-torch]",
   "language": "python",
   "name": "conda-env-yolo-torch-py"
  },
  "language_info": {
   "codemirror_mode": {
    "name": "ipython",
    "version": 3
   },
   "file_extension": ".py",
   "mimetype": "text/x-python",
   "name": "python",
   "nbconvert_exporter": "python",
   "pygments_lexer": "ipython3",
   "version": "3.6.10"
  }
 },
 "nbformat": 4,
 "nbformat_minor": 2
}
